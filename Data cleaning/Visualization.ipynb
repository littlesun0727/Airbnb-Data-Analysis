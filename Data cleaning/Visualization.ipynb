{
 "cells": [
  {
   "cell_type": "markdown",
   "metadata": {},
   "source": [
    "# Part1: Heatmap and Markercluster map"
   ]
  },
  {
   "cell_type": "markdown",
   "metadata": {},
   "source": [
    "## 1. import all modules you need"
   ]
  },
  {
   "cell_type": "code",
   "execution_count": 9,
   "metadata": {},
   "outputs": [],
   "source": [
    "import pandas as pd\n",
    "import geojsonio\n",
    "import json\n",
    "import folium\n",
    "import os\n",
    "import matplotlib\n",
    "import matplotlib.pyplot as plt\n",
    "from folium.plugins import MarkerCluster"
   ]
  },
  {
   "cell_type": "markdown",
   "metadata": {},
   "source": [
    "## 2. clean data"
   ]
  },
  {
   "cell_type": "code",
   "execution_count": 1,
   "metadata": {},
   "outputs": [
    {
     "name": "stderr",
     "output_type": "stream",
     "text": [
      "/Users/apple/anaconda3/lib/python3.6/site-packages/IPython/core/interactiveshell.py:2903: DtypeWarning: Columns (43,87,88) have mixed types. Specify dtype option on import or set low_memory=False.\n",
      "  if self.run_code(code, result):\n"
     ]
    }
   ],
   "source": [
    "def read_Airbnb_data(datafile):\n",
    "    import pandas as pd\n",
    "    import numpy as np\n",
    "    #Add the fix_zip function\n",
    "    def fix_zip(input_zip):\n",
    "        try:\n",
    "            input_zip = int(float(input_zip))\n",
    "        except:\n",
    "            try:\n",
    "                input_zip = int(input_zip.split('-')[0])\n",
    "            except:\n",
    "                return np.NaN\n",
    "        if input_zip < 10000 or input_zip > 19999:\n",
    "            return np.NaN\n",
    "        return str(input_zip)\n",
    "    #Add the fix_price function\n",
    "    def fix_price(input_price):\n",
    "        try:\n",
    "            input_price = float(input_price)\n",
    "        except:\n",
    "            try:\n",
    "                input_price = float(input_price[1:])\n",
    "            except:\n",
    "                return np.NaN\n",
    "        return input_price\n",
    "    \n",
    "    #Read datafile\n",
    "    df = pd.read_csv(datafile)\n",
    "    df = df.loc[:,['price','id','name','room_type','accommodates','zipcode',\n",
    "                                   'bathrooms','review_scores_rating','neighbourhood','neighbourhood_cleansed','guests_included','number_of_reviews','longitude','latitude']]\n",
    "    \n",
    "    #Fix zipcode\n",
    "    df['zipcode'] = df['zipcode'].apply(fix_zip)\n",
    "    df['price'] = df['price'].apply(fix_price)\n",
    "    \n",
    "    df.dropna(inplace=True)\n",
    "    df = df[df['number_of_reviews']>0]\n",
    "    \n",
    "    return df\n",
    "df = read_Airbnb_data('listings.csv')"
   ]
  },
  {
   "cell_type": "markdown",
   "metadata": {},
   "source": [
    "## 3. calculate rental price per person per day"
   ]
  },
  {
   "cell_type": "code",
   "execution_count": 3,
   "metadata": {},
   "outputs": [],
   "source": [
    "df['perprice'] = df['price']/df['accommodates']"
   ]
  },
  {
   "cell_type": "markdown",
   "metadata": {},
   "source": [
    "## 4. calculate the average of each neighbourhood "
   ]
  },
  {
   "cell_type": "code",
   "execution_count": 4,
   "metadata": {},
   "outputs": [],
   "source": [
    "sizes = df.groupby('neighbourhood_cleansed').mean()['perprice']\n",
    "sizes = pd.DataFrame(sizes)\n",
    "\n",
    "#then find anormal data according to sizes and search it in Airbnb\n",
    "#So delete it from datasets\n",
    "df = df[df['id']!=20330081]\n",
    "\n",
    "#calculate again\n",
    "sizes = df.groupby('neighbourhood_cleansed').mean()['perprice']\n",
    "sizes = pd.DataFrame(sizes)"
   ]
  },
  {
   "cell_type": "markdown",
   "metadata": {},
   "source": [
    "## 5. make up with data neighbourhood which have no Airbnb house "
   ]
  },
  {
   "cell_type": "code",
   "execution_count": 6,
   "metadata": {},
   "outputs": [],
   "source": [
    "# get a list showing all neighbourhoods in New York City\n",
    "df1 = pd.read_csv('neighbourhoods.csv')['neighbourhood']\n",
    "neblist = list(df1)\n",
    "\n",
    "# then use for loop add missing data, let value equal to 0\n",
    "for i in neblist:\n",
    "    if not i in sizes.index:\n",
    "        sizes.loc[i] = 0"
   ]
  },
  {
   "cell_type": "markdown",
   "metadata": {},
   "source": [
    "## 6. prepare the dataframe for heatmap"
   ]
  },
  {
   "cell_type": "code",
   "execution_count": 7,
   "metadata": {},
   "outputs": [],
   "source": [
    "# reset index to prepare for heatmap        \n",
    "sizes.reset_index(level=0, inplace=True)"
   ]
  },
  {
   "cell_type": "markdown",
   "metadata": {},
   "source": [
    "## 7. draw a heatmap showing each neighbourhood's average rental per person per day"
   ]
  },
  {
   "cell_type": "code",
   "execution_count": 8,
   "metadata": {
    "scrolled": false
   },
   "outputs": [],
   "source": [
    "m = folium.Map(location = [40.7589,-73.9851],zoom_start=11)\n",
    "m.choropleth(geo_data='neighbourhoods.geojson', data=sizes,\n",
    "             columns=[ 'neighbourhood_cleansed','perprice'],\n",
    "             key_on='feature.properties.neighbourhood',\n",
    "             fill_color='RdYlGn', fill_opacity=0.7, line_opacity=0.8,\n",
    "             legend_name='Distribution of houseprice per price')\n",
    "folium.LayerControl().add_to(m)\n",
    "\n",
    "m.save(os.path.join('result', 'neighbourhood_perprice.html'))"
   ]
  },
  {
   "cell_type": "markdown",
   "metadata": {},
   "source": [
    "## 8. draw a markercluster map showing the distribution of Airbnb houses in NYC "
   ]
  },
  {
   "cell_type": "code",
   "execution_count": 10,
   "metadata": {},
   "outputs": [],
   "source": [
    "m2 = folium.Map(location = [40.7589,-73.9851],zoom_start=11)\n",
    "\n",
    "# get all Airbnb houses' location\n",
    "lons = df['longitude']\n",
    "lats = df['latitude']\n",
    "\n",
    "# initial the graph\n",
    "marker_cluster = MarkerCluster(\n",
    "    name='house distribution',\n",
    "    overlay=True,\n",
    "    control=False,\n",
    "    icon_create_function=None\n",
    ")\n",
    "\n",
    "# use for loop add each house location in the map\n",
    "for k in range(len(lons)):\n",
    "    location = lats.iloc[k], lons.iloc[k]\n",
    "    marker = folium.Marker(location=location)\n",
    "    popup = 'lon:{}<br>lat:{}'.format(location[1], location[0])\n",
    "    folium.Popup(popup).add_to(marker)\n",
    "    marker_cluster.add_child(marker)\n",
    "\n",
    "# save it\n",
    "marker_cluster.add_to(m2)\n",
    "\n",
    "folium.LayerControl().add_to(m2)\n",
    "\n",
    "m2.save(os.path.join('result', 'house_distribution.html'))"
   ]
  },
  {
   "cell_type": "markdown",
   "metadata": {},
   "source": [
    "# Part2: Scartter chart "
   ]
  },
  {
   "cell_type": "markdown",
   "metadata": {},
   "source": [
    "<li>We want to draw a scartter chart to show the difference between avarage price to lease house and average price to buy the house in each neighbourhood."
   ]
  },
  {
   "cell_type": "markdown",
   "metadata": {},
   "source": [
    "## 1. clean data and calculate average price to buy houses in each neighbourhood"
   ]
  },
  {
   "cell_type": "code",
   "execution_count": 11,
   "metadata": {},
   "outputs": [],
   "source": [
    "def cleandata(file):\n",
    "    #read file\n",
    "    df1 = pd.read_csv(file)\n",
    "    \n",
    "    #get columns we need\n",
    "    df1 = df1[['NEIGHBORHOOD','GROSS SQUARE FEET',' SALE PRICE ']]\n",
    "    \n",
    "    # deal with column GROSS SQUARE FEET and SALE PRICE\n",
    "    import re\n",
    "    for i in df1.index:\n",
    "        x = df1.loc[i]['GROSS SQUARE FEET']\n",
    "        if type(x) == str:\n",
    "            if ',' in x:\n",
    "                x = x.split(',')\n",
    "                df1.loc[i]['GROSS SQUARE FEET'] = int(x[0])*1000 + int(x[1])\n",
    "            else:\n",
    "                df1.loc[i]['GROSS SQUARE FEET'] = int(x)\n",
    "        y = df1.loc[i][' SALE PRICE ']\n",
    "        pattern = r'[0-9]+'\n",
    "        y = re.findall(pattern,y)\n",
    "        if not y:\n",
    "            df1.loc[i][' SALE PRICE '] = 0\n",
    "        else:\n",
    "            if len(y) == 1:\n",
    "                df1.loc[i][' SALE PRICE '] = int(y[0])\n",
    "            else:\n",
    "                l = len(y)-1\n",
    "                z = 0\n",
    "                for j in range(l):\n",
    "                    z = z + int(y[j]) * (1000**(l-j))\n",
    "                    df1.loc[i][' SALE PRICE '] = z\n",
    "    #change type\n",
    "    df1['GROSS SQUARE FEET'] = df1['GROSS SQUARE FEET'].astype(int)\n",
    "    df1[' SALE PRICE '] = df1[' SALE PRICE '].astype(int)\n",
    "    df1['NEIGHBORHOOD'] = df1['NEIGHBORHOOD'].astype(str)\n",
    "    \n",
    "    #delete NAN\n",
    "    df1 = df1[(df1['GROSS SQUARE FEET'] != 0)]\n",
    "    df1 = df1[(df1[' SALE PRICE '] != 0)]\n",
    "    \n",
    "    #get the price per square feet\n",
    "    df1['price'] = df1[' SALE PRICE ']/df1['GROSS SQUARE FEET']\n",
    "    \n",
    "    #calculate the average price for each neighbourhood\n",
    "    df1 = df1.groupby('NEIGHBORHOOD').mean()\n",
    "    \n",
    "    return df1"
   ]
  },
  {
   "cell_type": "markdown",
   "metadata": {},
   "source": [
    "## 2. read and clean data from 5 files, and merge them into  a complete file "
   ]
  },
  {
   "cell_type": "code",
   "execution_count": 12,
   "metadata": {},
   "outputs": [],
   "source": [
    "df1 = cleandata('rollingsales_brooklyn.csv')\n",
    "df2 = cleandata('rollingsales_bronx.csv')\n",
    "df3 = cleandata('rollingsales_manhattan.csv')\n",
    "df4 = cleandata('rollingsales_queens.csv')\n",
    "df5 = cleandata('rollingsales_statenisland.csv')\n",
    "df = pd.concat( [df1,df2,df3,df4,df5], axis=0 )"
   ]
  },
  {
   "cell_type": "markdown",
   "metadata": {},
   "source": [
    "## 3. get the average price to buy the house in each neighbourhood"
   ]
  },
  {
   "cell_type": "code",
   "execution_count": 13,
   "metadata": {},
   "outputs": [],
   "source": [
    "df = df[['price']]\n",
    "df.reset_index(level=0, inplace=True)"
   ]
  },
  {
   "cell_type": "markdown",
   "metadata": {},
   "source": [
    "## 4. get the average price to lease the house in each neighbourhood"
   ]
  },
  {
   "cell_type": "code",
   "execution_count": 15,
   "metadata": {},
   "outputs": [
    {
     "name": "stderr",
     "output_type": "stream",
     "text": [
      "/Users/apple/anaconda3/lib/python3.6/site-packages/IPython/core/interactiveshell.py:2903: DtypeWarning: Columns (43,87,88) have mixed types. Specify dtype option on import or set low_memory=False.\n",
      "  if self.run_code(code, result):\n"
     ]
    }
   ],
   "source": [
    "# calculate the average price to leas\n",
    "dfre = read_Airbnb_data('listings.csv')\n",
    "dfre['perprice'] = dfre['price']/dfre['accommodates']\n",
    "sizes = dfre.groupby('neighbourhood_cleansed').mean()['perprice']\n",
    "sizes = pd.DataFrame(sizes)\n",
    "\n",
    "df_ = pd.read_csv('neighbourhoods.csv')['neighbourhood']\n",
    "neblist = list(df_)\n",
    "for i in neblist:\n",
    "    if not i in sizes.index:\n",
    "        sizes.loc[i] = 0\n",
    "        \n",
    "sizes.reset_index(level=0, inplace=True)"
   ]
  },
  {
   "cell_type": "markdown",
   "metadata": {},
   "source": [
    "## 5. make the index same and merge two dataframe"
   ]
  },
  {
   "cell_type": "code",
   "execution_count": 16,
   "metadata": {},
   "outputs": [],
   "source": [
    "sizes.columns = ['NEIGHBORHOOD','perprice']\n",
    "sizes['NEIGHBORHOOD'] = sizes['NEIGHBORHOOD'].apply(lambda x: x.lower())\n",
    "df['NEIGHBORHOOD'] = df['NEIGHBORHOOD'].apply(lambda x: x.lower()) \n",
    "result = pd.merge(sizes,df, how='left', on='NEIGHBORHOOD')"
   ]
  },
  {
   "cell_type": "markdown",
   "metadata": {},
   "source": [
    "## 6. deal with NaN and 0 "
   ]
  },
  {
   "cell_type": "code",
   "execution_count": 17,
   "metadata": {},
   "outputs": [],
   "source": [
    "result.dropna(inplace=True)\n",
    "result = result[(result['perprice'] != 0)]"
   ]
  },
  {
   "cell_type": "markdown",
   "metadata": {},
   "source": [
    "## 7.  remove the useless extreme values and draw the scatter chart"
   ]
  },
  {
   "cell_type": "code",
   "execution_count": 18,
   "metadata": {},
   "outputs": [],
   "source": [
    "result = result[(result['NEIGHBORHOOD'] != 'chelsea')]\n",
    "result = result[(result['NEIGHBORHOOD'] != 'tribeca')]"
   ]
  },
  {
   "cell_type": "code",
   "execution_count": 19,
   "metadata": {
    "scrolled": true
   },
   "outputs": [
    {
     "data": {
      "image/png": "[encoded data removed]",
      "text/plain": [
       "<Figure size 432x288 with 1 Axes>"
      ]
     },
     "metadata": {},
     "output_type": "display_data"
    }
   ],
   "source": [
    "y = result['perprice']\n",
    "x = result['price']\n",
    "fig = plt.figure(figsize=(6,4))\n",
    "ax1 = fig.add_subplot(111)\n",
    "plt.xlabel('price for square foot for house')\n",
    "plt.ylabel('price for per person in airbnb')\n",
    "ax1.scatter(x,y,c = '#ca8498',marker = 'o')\n",
    "plt.legend('N')\n",
    "plt.show()"
   ]
  },
  {
   "cell_type": "markdown",
   "metadata": {},
   "source": [
    "## 8. find the neighbourhood name we need "
   ]
  },
  {
   "cell_type": "code",
   "execution_count": 20,
   "metadata": {},
   "outputs": [
    {
     "data": {
      "text/html": [
       "<div>\n",
       "<style scoped>\n",
       "    .dataframe tbody tr th:only-of-type {\n",
       "        vertical-align: middle;\n",
       "    }\n",
       "\n",
       "    .dataframe tbody tr th {\n",
       "        vertical-align: top;\n",
       "    }\n",
       "\n",
       "    .dataframe thead th {\n",
       "        text-align: right;\n",
       "    }\n",
       "</style>\n",
       "<table border=\"1\" class=\"dataframe\">\n",
       "  <thead>\n",
       "    <tr style=\"text-align: right;\">\n",
       "      <th></th>\n",
       "      <th>NEIGHBORHOOD</th>\n",
       "      <th>perprice</th>\n",
       "      <th>price</th>\n",
       "    </tr>\n",
       "  </thead>\n",
       "  <tbody>\n",
       "    <tr>\n",
       "      <th>14</th>\n",
       "      <td>belle harbor</td>\n",
       "      <td>67.805556</td>\n",
       "      <td>448.281619</td>\n",
       "    </tr>\n",
       "    <tr>\n",
       "      <th>121</th>\n",
       "      <td>mariners harbor</td>\n",
       "      <td>65.083333</td>\n",
       "      <td>252.865445</td>\n",
       "    </tr>\n",
       "    <tr>\n",
       "      <th>166</th>\n",
       "      <td>riverdale</td>\n",
       "      <td>144.452381</td>\n",
       "      <td>380.356292</td>\n",
       "    </tr>\n",
       "  </tbody>\n",
       "</table>\n",
       "</div>"
      ],
      "text/plain": [
       "        NEIGHBORHOOD    perprice       price\n",
       "14      belle harbor   67.805556  448.281619\n",
       "121  mariners harbor   65.083333  252.865445\n",
       "166        riverdale  144.452381  380.356292"
      ]
     },
     "execution_count": 20,
     "metadata": {},
     "output_type": "execute_result"
    }
   ],
   "source": [
    "result[(result['perprice'] > 60) & (result['price'] <600)]"
   ]
  },
  {
   "cell_type": "code",
   "execution_count": null,
   "metadata": {},
   "outputs": [],
   "source": []
  }
 ],
 "metadata": {
  "kernelspec": {
   "display_name": "Python 3",
   "language": "python",
   "name": "python3"
  },
  "language_info": {
   "codemirror_mode": {
    "name": "ipython",
    "version": 3
   },
   "file_extension": ".py",
   "mimetype": "text/x-python",
   "name": "python",
   "nbconvert_exporter": "python",
   "pygments_lexer": "ipython3",
   "version": "3.6.5"
  }
 },
 "nbformat": 4,
 "nbformat_minor": 2
}
